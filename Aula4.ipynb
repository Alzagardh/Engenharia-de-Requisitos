{
 "cells": [
  {
   "cell_type": "code",
   "execution_count": 37,
   "metadata": {},
   "outputs": [
    {
     "name": "stdout",
     "output_type": "stream",
     "text": [
      "MENU\n",
      "1 - Add\n",
      "2 - EXIB\n",
      "3 - REMOVER\n",
      "4 - BUSCAR\n",
      "5 - SAIR\n",
      "6 - TESTAR\n",
      "Cliente Lucas cadastrado!\n",
      "Cliente alguem cadastrado!\n",
      "Nome: Lucas, Email: ll@gg, Telefone: 22777777777, Endereço: rua b\n",
      "Nome: alguem, Email: a@ninguem, Telefone: 222222222222, Endereço: rua u\n",
      "Cliente com email: a@ninguem\n",
      "Nome: Lucas, Email: ll@gg, Telefone: 22777777777, Endereço: rua b\n"
     ]
    }
   ],
   "source": [
    "# aula 4\n",
    "\n",
    "clientes = []\n",
    "\n",
    "def adicionar_cliente(nome, email, telefone, endereco):\n",
    "    cliente = [nome, email, telefone, endereco]\n",
    "    clientes.append(cliente)\n",
    "    print(f\"Cliente {nome} cadastrado!\")\n",
    "    \n",
    "def exibir_clientes():\n",
    "    for cliente in clientes:\n",
    "        print(f\"Nome: {cliente[0]}, Email: {cliente[1]}, Telefone: {cliente[2]}, Endereço: {cliente[3]}\")\n",
    "        \n",
    "def remover_cliente(email):\n",
    "    for cliente in clientes:\n",
    "        if cliente[1] == email:\n",
    "            clientes.remove(cliente)\n",
    "            print(f\"Cliente com email: {email}\")\n",
    "            return\n",
    "    print(\"Cliente não encontrado\")\n",
    "    \n",
    "def buscar_cliente(email):\n",
    "    for cliente in clientes:\n",
    "        if cliente[1] == email:\n",
    "            print(f\"Nome: {cliente[0]}, Email: {cliente[1]}, Telefone: {cliente[2]}, Endereço: {cliente[3]}\")\n",
    "            return\n",
    "    print(\"Cliente não encontrado\")\n",
    "\n",
    "def testar():\n",
    "    adicionar_cliente(\"Lucas\",\"ll@gg\",\"22777777777\",\"rua b\")\n",
    "    adicionar_cliente(\"alguem\",\"a@ninguem\",\"222222222222\",\"rua u\")\n",
    "    exibir_clientes()\n",
    "    remover_cliente(\"a@ninguem\")\n",
    "    buscar_cliente(\"ll@gg\")\n",
    "    \n",
    "def menu():\n",
    "    while True:\n",
    "        print(\"MENU\")\n",
    "        print(\"1 - Add\")\n",
    "        print(\"2 - EXIB\")\n",
    "        print(\"3 - REMOVER\")\n",
    "        print(\"4 - BUSCAR\")\n",
    "        print(\"5 - SAIR\")\n",
    "        print(\"6 - TESTAR\")\n",
    "        \n",
    "        opcao = input(\"Escolha uma opção: \")\n",
    "        \n",
    "        if opcao == '1':\n",
    "            adicionar_cliente(nome,email,telefone,endereco)\n",
    "        elif opcao == '2':\n",
    "            exibir_clientes()\n",
    "        elif opcao == '3':\n",
    "            remover_cliente(email)\n",
    "        elif opcao == '4':\n",
    "            buscar_cliente(email)\n",
    "        elif opcao == '5':\n",
    "            break\n",
    "        elif opcao == '6':\n",
    "            testar()\n",
    "            break\n",
    "        else:\n",
    "            print(\"Não é uma opção válida!\")\n",
    "            \n",
    "menu()\n"
   ]
  },
  {
   "cell_type": "code",
   "execution_count": 17,
   "metadata": {},
   "outputs": [
    {
     "name": "stdout",
     "output_type": "stream",
     "text": [
      "{'nome': 'Lucas', 'email': 'lucas@g', 'telefone': '2277777777', 'endereco': 'Rua A'}\n",
      "Lucas\n",
      "dict_values(['Lucas', 'lucas@g', '2277777777', 'Rua A'])\n",
      "nome Lucas\n",
      "email lucas@g\n",
      "telefone 2277777777\n",
      "dendereco Rua B\n"
     ]
    }
   ],
   "source": [
    "dicionario = {\n",
    "    \"nome\" : \"Lucas\",\n",
    "    \"email\" : \"lucas@g\",\n",
    "    \"telefone\" : \"2277777777\",\n",
    "    \"endereco\" : \"Rua A\"\n",
    "}\n",
    "print(dicionario)\n",
    "\n",
    "print(dicionario[\"nome\"])\n",
    "\n",
    "resultado = dicionario.get(\"email\")\n",
    "resultado = dicionario.keys()\n",
    "resultado = dicionario.values()\n",
    "\n",
    "print(resultado)\n",
    "\n",
    "dicionario.update({\"dendereco\" : \"Rua B\"})\n",
    "dicionario.pop(\"endereco\")\n",
    "\n",
    "for i, j in dicionario.items():\n",
    "    print(i,j)\n"
   ]
  }
 ],
 "metadata": {
  "kernelspec": {
   "display_name": "Python 3",
   "language": "python",
   "name": "python3"
  },
  "language_info": {
   "codemirror_mode": {
    "name": "ipython",
    "version": 3
   },
   "file_extension": ".py",
   "mimetype": "text/x-python",
   "name": "python",
   "nbconvert_exporter": "python",
   "pygments_lexer": "ipython3",
   "version": "3.12.4"
  }
 },
 "nbformat": 4,
 "nbformat_minor": 2
}
